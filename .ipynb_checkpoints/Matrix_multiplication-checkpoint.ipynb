{
 "cells": [
  {
   "cell_type": "code",
   "execution_count": null,
   "id": "4dfe13a5",
   "metadata": {},
   "outputs": [],
   "source": [
    "import numpy as np\n",
    "import matplotlib.pyplot as plt"
   ]
  },
  {
   "cell_type": "markdown",
   "id": "bad34578",
   "metadata": {},
   "source": [
    "# Matrix_multiplication\n",
    "\n",
    "(https://mbernste.github.io/posts/matrix_multiplication/)\n",
    "Matrix multiplication is one of the most popular topic in linear algebra, but often taught without explaining any intuition behind it. We all know the formulas, and use them all the time, but do we really understand the mechanics behind them?\n",
    "\n",
    "In this article we explain the intuition and show graphical explanations of matrix by vector and matrix by matrix multiplication.\n",
    "\n",
    "The examples used are fairly simple and don’t require even a calculator. However, the approaches learnt in this article can be applied on more complex matrix multiplications.\n",
    "\n",
    "We also explore how quick and easy it is to perform matrix multiplication using Python.\n",
    "\n",
    "To get started, we want to understand what a matrix really is and what does a matrix represent.\n",
    "\n",
    "As an example, we will consider a 2×2 square matrix (where number of rows equals the number of columns), and let’s call it matrix <strong>𝐴</strong>."
   ]
  },
  {
   "cell_type": "code",
   "execution_count": 80,
   "id": "55a80c1f",
   "metadata": {},
   "outputs": [
    {
     "data": {
      "image/png": "[encoded data removed]",
      "text/plain": [
       "<Figure size 432x288 with 1 Axes>"
      ]
     },
     "metadata": {
      "needs_background": "light"
     },
     "output_type": "display_data"
    }
   ],
   "source": [
    "# Directional vectors\n",
    "A = np.array([[1, 6],\n",
    "              [2, 3]])\n",
    "v1 = [A[0,0],A[1,0]]\n",
    "v2 = [A[0,1],A[1,1]]\n",
    "\n",
    "\n",
    "# Vector origin location\n",
    "origin = np.array([[0, 0],[0, 0]]) # origin point\n",
    "\n",
    "plt.quiver(*origin, A[:,0], A[:,1], color=['r','b'], scale=50)\n",
    "plt.title('Single Vectors')\n",
    "plt.show()"
   ]
  },
  {
   "cell_type": "code",
   "execution_count": 77,
   "id": "e0234b47",
   "metadata": {},
   "outputs": [],
   "source": [
    "d1,d2 = [3],[2]\n",
    "d = np.array([d1,d2])"
   ]
  },
  {
   "cell_type": "markdown",
   "id": "c91e737e",
   "metadata": {},
   "source": [
    "Vector $\\vec{d}$ (by which we multiply) represents the scalars for the base vectors $\\vec{v1}$ and $\\vec{v2}$. We first multiply each base vector ( $\\vec{v1}$ and $\\vec{v2}$) by their scalars (3 and 2 respectively), and then find the sum of the resulting vectors."
   ]
  },
  {
   "cell_type": "code",
   "execution_count": 78,
   "id": "505555b3",
   "metadata": {},
   "outputs": [
    {
     "name": "stdout",
     "output_type": "stream",
     "text": [
      "[15 12]\n",
      "[[15]\n",
      " [12]]\n"
     ]
    }
   ],
   "source": [
    "v1_new = v1*np.array(d1)\n",
    "v2_new = v2*np.array(d2)\n",
    "\n",
    "result_v1 = v1_new+v2_new\n",
    "print(result_v1)\n",
    "\n",
    "#@ operation\n",
    "result_v2 = A @ d\n",
    "print(result_v2)"
   ]
  },
  {
   "cell_type": "code",
   "execution_count": 79,
   "id": "88b1db20",
   "metadata": {},
   "outputs": [
    {
     "data": {
      "image/png": "[encoded data removed]",
      "text/plain": [
       "<Figure size 432x288 with 1 Axes>"
      ]
     },
     "metadata": {
      "needs_background": "light"
     },
     "output_type": "display_data"
    }
   ],
   "source": [
    "V = np.array([[1, 6],[2, 3],result_v1])\n",
    "origin = np.array([[0, 0, 0],[0, 0, 0]]) # origin point\n",
    "\n",
    "plt.quiver(*origin, V[:,0], V[:,1], color=['r','b','g'], scale=50)\n",
    "plt.show()"
   ]
  }
 ],
 "metadata": {
  "kernelspec": {
   "display_name": "Python 3 (ipykernel)",
   "language": "python",
   "name": "python3"
  },
  "language_info": {
   "codemirror_mode": {
    "name": "ipython",
    "version": 3
   },
   "file_extension": ".py",
   "mimetype": "text/x-python",
   "name": "python",
   "nbconvert_exporter": "python",
   "pygments_lexer": "ipython3",
   "version": "3.9.12"
  }
 },
 "nbformat": 4,
 "nbformat_minor": 5
}
